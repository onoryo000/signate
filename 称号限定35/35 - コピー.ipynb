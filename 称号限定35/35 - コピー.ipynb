{
 "cells": [
  {
   "cell_type": "code",
   "execution_count": 1,
   "metadata": {},
   "outputs": [],
   "source": [
    "import matplotlib.pyplot as plt\n",
    "import numpy as np\n",
    "import pandas as pd\n",
    "train = pd.read_csv(\"train.csv\", index_col=0) # 学習用データ\n",
    "test = pd.read_csv(\"test.csv\", index_col=0)   # 評価用データ\n",
    "sample_submit = pd.read_csv(\"sample_submit.csv\", index_col=0, header=None) # 応募用サンプルファイル"
   ]
  },
  {
   "cell_type": "code",
   "execution_count": 2,
   "metadata": {},
   "outputs": [
    {
     "data": {
      "text/plain": [
       "age                 0.102112\n",
       "bmi                 0.171282\n",
       "children            0.026830\n",
       "charges             1.000000\n",
       "sex_female         -0.118389\n",
       "sex_male            0.118389\n",
       "smoker_no          -0.723247\n",
       "smoker_yes          0.723247\n",
       "region_northeast   -0.026767\n",
       "region_northwest   -0.069689\n",
       "region_southeast    0.148423\n",
       "region_southwest   -0.053630\n",
       "dtype: float64"
      ]
     },
     "execution_count": 2,
     "metadata": {},
     "output_type": "execute_result"
    }
   ],
   "source": [
    "pd.get_dummies(train).corrwith(train[\"charges\"])"
   ]
  },
  {
   "cell_type": "code",
   "execution_count": 3,
   "metadata": {},
   "outputs": [],
   "source": [
    "train = pd.get_dummies(train)\n",
    "test = pd.get_dummies(test)\n"
   ]
  },
  {
   "cell_type": "code",
   "execution_count": 4,
   "metadata": {},
   "outputs": [],
   "source": [
    "train[\"age_bmi\"] = train[\"age\"] * train[\"bmi\"]\n",
    "test[\"age_bmi\"] = test[\"age\"] * test[\"bmi\"]\n",
    "\n",
    "train[\"age_squared\"] = train[\"age\"]**2\n",
    "test[\"age_squared\"] = test[\"age\"]**2\n",
    "train[\"bmi_log\"] = np.log(train[\"bmi\"] + 1)\n",
    "test[\"bmi_log\"] = np.log(test[\"bmi\"] + 1)\n",
    "# train[\"smoker_yes_region_southeast\"]=train[\"smoker_yes\"]*train[\"region_southeast\"]\n",
    "# test[\"smoker_yes_region_southeast\"] = test[\"smoker_yes\"] *test[\"region_southeast\"]\n",
    "\n",
    "# train[\"smoke_bmi_age\"] = train[\"smoker_yes\"] * train[\"bmi\"]*train[\"age\"] \n",
    "# test[\"smoke_bmi_age\"] = test[\"smoker_yes\"] * test[\"bmi\"]*test[\"age\"]\n"
   ]
  },
  {
   "cell_type": "code",
   "execution_count": 5,
   "metadata": {},
   "outputs": [],
   "source": [
    "from sklearn.preprocessing import StandardScaler\n",
    "\n",
    "# 標準化の対象となる特徴量を選択\n",
    "selected_features = [\"age\", \"bmi\",\"age_bmi\",\"age_squared\",\"bmi_log\"]\n",
    "\n",
    "# StandardScalerのインスタンスを作成\n",
    "scaler = StandardScaler()\n",
    "# 選択した特徴量の平均値と標準偏差を計算し、標準化を実行\n",
    "train[selected_features] = scaler.fit_transform(train[selected_features])\n",
    "test[selected_features] = scaler.transform(test[selected_features])\n"
   ]
  },
  {
   "cell_type": "code",
   "execution_count": 6,
   "metadata": {},
   "outputs": [],
   "source": [
    "from sklearn.preprocessing import MinMaxScaler\n",
    "\n",
    "scaler = MinMaxScaler()\n",
    "train[selected_features]= scaler.fit_transform(train[selected_features])\n",
    "test[selected_features]= scaler.fit_transform(test[selected_features])"
   ]
  },
  {
   "attachments": {},
   "cell_type": "markdown",
   "metadata": {},
   "source": []
  },
  {
   "cell_type": "code",
   "execution_count": 7,
   "metadata": {},
   "outputs": [],
   "source": [
    "# correlation_abs =train.corrwith(train[\"charges\"]).abs()\n",
    "# train = train.mul(correlation_abs)\n",
    "# test = test.mul(correlation_abs)"
   ]
  },
  {
   "cell_type": "code",
   "execution_count": 8,
   "metadata": {},
   "outputs": [
    {
     "data": {
      "text/html": [
       "<div>\n",
       "<style scoped>\n",
       "    .dataframe tbody tr th:only-of-type {\n",
       "        vertical-align: middle;\n",
       "    }\n",
       "\n",
       "    .dataframe tbody tr th {\n",
       "        vertical-align: top;\n",
       "    }\n",
       "\n",
       "    .dataframe thead th {\n",
       "        text-align: right;\n",
       "    }\n",
       "</style>\n",
       "<table border=\"1\" class=\"dataframe\">\n",
       "  <thead>\n",
       "    <tr style=\"text-align: right;\">\n",
       "      <th></th>\n",
       "      <th>age</th>\n",
       "      <th>bmi</th>\n",
       "      <th>children</th>\n",
       "      <th>sex_female</th>\n",
       "      <th>sex_male</th>\n",
       "      <th>smoker_no</th>\n",
       "      <th>smoker_yes</th>\n",
       "      <th>region_northeast</th>\n",
       "      <th>region_northwest</th>\n",
       "      <th>region_southeast</th>\n",
       "      <th>region_southwest</th>\n",
       "      <th>age_bmi</th>\n",
       "      <th>age_squared</th>\n",
       "      <th>bmi_log</th>\n",
       "    </tr>\n",
       "    <tr>\n",
       "      <th>id</th>\n",
       "      <th></th>\n",
       "      <th></th>\n",
       "      <th></th>\n",
       "      <th></th>\n",
       "      <th></th>\n",
       "      <th></th>\n",
       "      <th></th>\n",
       "      <th></th>\n",
       "      <th></th>\n",
       "      <th></th>\n",
       "      <th></th>\n",
       "      <th></th>\n",
       "      <th></th>\n",
       "      <th></th>\n",
       "    </tr>\n",
       "  </thead>\n",
       "  <tbody>\n",
       "    <tr>\n",
       "      <th>0</th>\n",
       "      <td>0.173913</td>\n",
       "      <td>0.451481</td>\n",
       "      <td>3</td>\n",
       "      <td>0</td>\n",
       "      <td>1</td>\n",
       "      <td>1</td>\n",
       "      <td>0</td>\n",
       "      <td>0</td>\n",
       "      <td>0</td>\n",
       "      <td>1</td>\n",
       "      <td>0</td>\n",
       "      <td>0.176772</td>\n",
       "      <td>0.093319</td>\n",
       "      <td>0.550877</td>\n",
       "    </tr>\n",
       "    <tr>\n",
       "      <th>1</th>\n",
       "      <td>0.500000</td>\n",
       "      <td>0.343963</td>\n",
       "      <td>1</td>\n",
       "      <td>0</td>\n",
       "      <td>1</td>\n",
       "      <td>1</td>\n",
       "      <td>0</td>\n",
       "      <td>0</td>\n",
       "      <td>0</td>\n",
       "      <td>0</td>\n",
       "      <td>1</td>\n",
       "      <td>0.320719</td>\n",
       "      <td>0.359756</td>\n",
       "      <td>0.440080</td>\n",
       "    </tr>\n",
       "    <tr>\n",
       "      <th>2</th>\n",
       "      <td>0.217391</td>\n",
       "      <td>0.453602</td>\n",
       "      <td>0</td>\n",
       "      <td>0</td>\n",
       "      <td>1</td>\n",
       "      <td>0</td>\n",
       "      <td>1</td>\n",
       "      <td>0</td>\n",
       "      <td>1</td>\n",
       "      <td>0</td>\n",
       "      <td>0</td>\n",
       "      <td>0.202634</td>\n",
       "      <td>0.121951</td>\n",
       "      <td>0.552967</td>\n",
       "    </tr>\n",
       "    <tr>\n",
       "      <th>3</th>\n",
       "      <td>0.043478</td>\n",
       "      <td>0.667674</td>\n",
       "      <td>2</td>\n",
       "      <td>1</td>\n",
       "      <td>0</td>\n",
       "      <td>1</td>\n",
       "      <td>0</td>\n",
       "      <td>0</td>\n",
       "      <td>0</td>\n",
       "      <td>1</td>\n",
       "      <td>0</td>\n",
       "      <td>0.145580</td>\n",
       "      <td>0.020148</td>\n",
       "      <td>0.747636</td>\n",
       "    </tr>\n",
       "    <tr>\n",
       "      <th>4</th>\n",
       "      <td>0.586957</td>\n",
       "      <td>0.338080</td>\n",
       "      <td>1</td>\n",
       "      <td>1</td>\n",
       "      <td>0</td>\n",
       "      <td>1</td>\n",
       "      <td>0</td>\n",
       "      <td>0</td>\n",
       "      <td>1</td>\n",
       "      <td>0</td>\n",
       "      <td>0</td>\n",
       "      <td>0.364058</td>\n",
       "      <td>0.450954</td>\n",
       "      <td>0.433723</td>\n",
       "    </tr>\n",
       "  </tbody>\n",
       "</table>\n",
       "</div>"
      ],
      "text/plain": [
       "         age       bmi  children  sex_female  sex_male  smoker_no  smoker_yes  \\\n",
       "id                                                                              \n",
       "0   0.173913  0.451481         3           0         1          1           0   \n",
       "1   0.500000  0.343963         1           0         1          1           0   \n",
       "2   0.217391  0.453602         0           0         1          0           1   \n",
       "3   0.043478  0.667674         2           1         0          1           0   \n",
       "4   0.586957  0.338080         1           1         0          1           0   \n",
       "\n",
       "    region_northeast  region_northwest  region_southeast  region_southwest  \\\n",
       "id                                                                           \n",
       "0                  0                 0                 1                 0   \n",
       "1                  0                 0                 0                 1   \n",
       "2                  0                 1                 0                 0   \n",
       "3                  0                 0                 1                 0   \n",
       "4                  0                 1                 0                 0   \n",
       "\n",
       "     age_bmi  age_squared   bmi_log  \n",
       "id                                   \n",
       "0   0.176772     0.093319  0.550877  \n",
       "1   0.320719     0.359756  0.440080  \n",
       "2   0.202634     0.121951  0.552967  \n",
       "3   0.145580     0.020148  0.747636  \n",
       "4   0.364058     0.450954  0.433723  "
      ]
     },
     "execution_count": 8,
     "metadata": {},
     "output_type": "execute_result"
    }
   ],
   "source": [
    "y = train[\"charges\"] # 目的変数\n",
    "X = train.drop([\"charges\"], axis=1) # 目的変数を除いたデータ\n",
    "X.head()\n"
   ]
  },
  {
   "cell_type": "code",
   "execution_count": null,
   "metadata": {},
   "outputs": [],
   "source": []
  },
  {
   "cell_type": "code",
   "execution_count": null,
   "metadata": {},
   "outputs": [],
   "source": []
  },
  {
   "cell_type": "code",
   "execution_count": 13,
   "metadata": {},
   "outputs": [],
   "source": []
  },
  {
   "cell_type": "code",
   "execution_count": null,
   "metadata": {},
   "outputs": [],
   "source": []
  }
 ],
 "metadata": {
  "kernelspec": {
   "display_name": "base",
   "language": "python",
   "name": "python3"
  },
  "language_info": {
   "codemirror_mode": {
    "name": "ipython",
    "version": 3
   },
   "file_extension": ".py",
   "mimetype": "text/x-python",
   "name": "python",
   "nbconvert_exporter": "python",
   "pygments_lexer": "ipython3",
   "version": "3.10.9"
  },
  "orig_nbformat": 4
 },
 "nbformat": 4,
 "nbformat_minor": 2
}

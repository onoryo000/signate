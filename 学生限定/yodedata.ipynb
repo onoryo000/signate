{
 "cells": [
  {
   "cell_type": "code",
   "execution_count": 296,
   "metadata": {},
   "outputs": [],
   "source": [
    "import pandas as pd\n",
    "import numpy as np\n",
    "import math\n",
    "import unicodedata\n",
    "import matplotlib.pyplot as plt\n",
    "import seaborn as sns\n",
    "\n",
    "import lightgbm as lgb\n",
    "from sklearn.model_selection import train_test_split\n",
    "from sklearn.metrics import mean_absolute_percentage_error\n",
    "\n",
    "pd.set_option('display.max_columns', None)"
   ]
  },
  {
   "cell_type": "code",
   "execution_count": 297,
   "metadata": {},
   "outputs": [],
   "source": [
    "train = pd.read_csv(\"train.csv\", decimal=',')\n",
    "test = pd.read_csv(\"test.csv\", decimal=',')\n",
    "n = (train.state.unique()[0])"
   ]
  },
  {
   "cell_type": "code",
   "execution_count": 298,
   "metadata": {},
   "outputs": [],
   "source": [
    "train['size'] = train['size'].str.replace('full-size', 'fullsize').replace('fullーsize', 'fullsize').replace('full−size', 'fullsize').replace('mid-size', 'midsize').replace('midーsize', 'midsize').replace('mid−size', 'midsize').replace('sub-compact','subcompact').replace('subーcompact', 'subcompact')\n",
    "test['size'] = test['size'].str.replace('full-size', 'fullsize').replace('fullーsize', 'fullsize').replace('full−size', 'fullsize').replace('mid-size', 'midsize').replace('midーsize', 'midsize').replace('mid−size', 'midsize').replace('sub-compact','subcompact').replace('subーcompact', 'subcompact')"
   ]
  },
  {
   "cell_type": "code",
   "execution_count": 299,
   "metadata": {},
   "outputs": [],
   "source": [
    "train[\"region\"] = train[\"region\"].apply(lambda x: x.replace(\"/\", \"nn\").replace(\",\", \" \"))\n",
    "test[\"region\"] = test[\"region\"].apply(lambda x: x.replace(\"/\", \"nn\").replace(\",\", \" \"))"
   ]
  },
  {
   "cell_type": "code",
   "execution_count": 300,
   "metadata": {},
   "outputs": [],
   "source": [
    "def to_half_width(text):\n",
    "    return ''.join([unicodedata.normalize('NFKC', char).lower().replace(\"а\", \"a\").replace(\"ѕ\", \"s\").replace(\"о\", \"o\").replace(\"α\", \"a\") for char in text])\n",
    "\n",
    "train[\"manufacturer\"] = train[\"manufacturer\"].apply(to_half_width)\n",
    "test[\"manufacturer\"] = test[\"manufacturer\"].apply(to_half_width)"
   ]
  },
  {
   "cell_type": "code",
   "execution_count": 301,
   "metadata": {},
   "outputs": [
    {
     "name": "stderr",
     "output_type": "stream",
     "text": [
      "C:\\Users\\81703\\AppData\\Local\\Temp\\ipykernel_10796\\982428449.py:1: SettingWithCopyWarning: \n",
      "A value is trying to be set on a copy of a slice from a DataFrame\n",
      "\n",
      "See the caveats in the documentation: https://pandas.pydata.org/pandas-docs/stable/user_guide/indexing.html#returning-a-view-versus-a-copy\n",
      "  train.odometer[train.odometer < 0] = 0\n",
      "C:\\Users\\81703\\AppData\\Local\\Temp\\ipykernel_10796\\982428449.py:2: SettingWithCopyWarning: \n",
      "A value is trying to be set on a copy of a slice from a DataFrame\n",
      "\n",
      "See the caveats in the documentation: https://pandas.pydata.org/pandas-docs/stable/user_guide/indexing.html#returning-a-view-versus-a-copy\n",
      "  test.odometer[test.odometer < 0] = 0\n",
      "C:\\Users\\81703\\AppData\\Local\\Temp\\ipykernel_10796\\982428449.py:3: SettingWithCopyWarning: \n",
      "A value is trying to be set on a copy of a slice from a DataFrame\n",
      "\n",
      "See the caveats in the documentation: https://pandas.pydata.org/pandas-docs/stable/user_guide/indexing.html#returning-a-view-versus-a-copy\n",
      "  train.year[train.year > 2023] -= 1000\n",
      "C:\\Users\\81703\\AppData\\Local\\Temp\\ipykernel_10796\\982428449.py:4: SettingWithCopyWarning: \n",
      "A value is trying to be set on a copy of a slice from a DataFrame\n",
      "\n",
      "See the caveats in the documentation: https://pandas.pydata.org/pandas-docs/stable/user_guide/indexing.html#returning-a-view-versus-a-copy\n",
      "  test.year[test.year > 2023] -= 1000\n",
      "C:\\Users\\81703\\AppData\\Local\\Temp\\ipykernel_10796\\982428449.py:5: SettingWithCopyWarning: \n",
      "A value is trying to be set on a copy of a slice from a DataFrame\n",
      "\n",
      "See the caveats in the documentation: https://pandas.pydata.org/pandas-docs/stable/user_guide/indexing.html#returning-a-view-versus-a-copy\n",
      "  train.odometer[train.odometer >= 1000000] /= 10\n",
      "C:\\Users\\81703\\AppData\\Local\\Temp\\ipykernel_10796\\982428449.py:6: SettingWithCopyWarning: \n",
      "A value is trying to be set on a copy of a slice from a DataFrame\n",
      "\n",
      "See the caveats in the documentation: https://pandas.pydata.org/pandas-docs/stable/user_guide/indexing.html#returning-a-view-versus-a-copy\n",
      "  test.odometer[test.odometer >= 1000000] /= 10\n"
     ]
    }
   ],
   "source": [
    "train.odometer[train.odometer < 0] = 0\n",
    "test.odometer[test.odometer < 0] = 0\n",
    "train.year[train.year > 2023] -= 1000\n",
    "test.year[test.year > 2023] -= 1000\n",
    "train.odometer[train.odometer >= 1000000] /= 10\n",
    "test.odometer[test.odometer >= 1000000] /= 10"
   ]
  },
  {
   "cell_type": "code",
   "execution_count": 305,
   "metadata": {},
   "outputs": [
    {
     "data": {
      "text/plain": [
       "Index(['region', 'manufacturer', 'condition', 'cylinders', 'fuel',\n",
       "       'title_status', 'transmission', 'drive', 'size', 'type', 'paint_color',\n",
       "       'state'],\n",
       "      dtype='object')"
      ]
     },
     "execution_count": 305,
     "metadata": {},
     "output_type": "execute_result"
    }
   ],
   "source": [
    "train.columns[train.dtypes == \"object\"]"
   ]
  },
  {
   "cell_type": "code",
   "execution_count": 280,
   "metadata": {},
   "outputs": [],
   "source": [
    "# l = {\"dc\": [9856, 68], \"nj\": [1195, 8722], \"ri\": [1018, 1544], \"ma\": [839, 10554], \"ct\": [738, 5543],\n",
    "#      \"md\": [594, 12405], \"de\": [460, 2488], \"ny\": [4141, 54554], \"fl\": [350, 65757], \"pa\": [282, 46054],\n",
    "#      \"oh\": [282, 44825], \"ca\": [239, 163694], \"il\": [231, 57913], \"hi\": [211, 10931], \"va\": [202, 42774],\n",
    "#      \"nc\": [196, 53819], \"in\": [180, 36419], \"mi\": [174, 96713], \"ga\": [168, 59425], \"tn\": [153, 42144],\n",
    "#      \"sc\": [153, 32020], \"nh\": [147, 9346], \"ky\": [109, 40407], \"wi\": [105, 65496], \"la\": [104, 52378],\n",
    "#      \"wa\": [101, 71297], \"tx\": [96, 268596], \"al\": [94, 52420], \"mo\": [87, 69706], \"wv\": [77, 24230],\n",
    "#      \"vt\": [67, 9616], \"mn\": [66, 86935], \"ms\": [63, 48431], \"az\": [56, 113990], \"ar\": [56, 53178],\n",
    "#      \"ok\": [54, 69898], \"ia\": [54, 56272], \"co\": [48, 104093], \"me\": [43, 35379], \"or\": [39, 98378],\n",
    "#      \"ks\": [34, 82278], \"ut\": [33, 84896], \"nv\": [24, 110571], \"ne\": [23, 77347], \"id\": [18, 83568],\n",
    "#      \"nm\": [16, 121590], \"sd\": [10, 77115], \"nd\": [9, 70698], \"mt\": [6, 147039], \"wy\": [5, 97813], \"ak\": [1, 665384]}\n",
    "\n",
    "# man = {'bmw': 47200, 'toyota': 26500, 'ford': 24500, 'nissan': 22500, 'volkswagen': 21500, 'lexus': 43500, 'buick': 27500,\n",
    "#        'subaru': 25500, 'ram': 32500, 'dodge': 28500, 'chevrolet': 25500, 'jeep': 30500, 'honda': 24500, 'hyundai': 23500,\n",
    "#        'chrysler': 29500, 'gmc': 34500, 'mazda': 26500, 'audi': 45500, 'lincoln': 49500, 'kia': 22500,\n",
    "#        'mercedes-benz': 58500, 'mitsubishi': 20500, 'saturn': 25500, 'infiniti': 41500, 'mini': 29500,\n",
    "#        'mercury': 28500, 'cadillac': 52500, 'pontiac': 27500, 'acura': 38500, 'fiat': 21500, 'jaguar': 56500,\n",
    "#        'volvo': 37500, 'rover': 33500, 'porsche': 72500, 'land rover': 64500, 'aston-martin': 109500,\n",
    "#        'alfa-romeo': 49500, 'ᴄhrysler': 29500}"
   ]
  },
  {
   "cell_type": "code",
   "execution_count": 281,
   "metadata": {},
   "outputs": [],
   "source": [
    "# train['state_pd'] = n\n",
    "# test['state_pd'] = n\n",
    "# train['state_area'] = n\n",
    "# test['state_area'] = n\n",
    "# train['state_pop'] = n\n",
    "# test['state_pop'] = n\n",
    "# train['man_ave'] = n\n",
    "# test['man_ave'] = n\n",
    "# for i in range(train.id.shape[0]):\n",
    "#     if type(train[\"state\"][i]) == str:\n",
    "#         train['state_pd'][i] = l[train.state[i]][0]\n",
    "#         train['state_area'][i] = l[train.state[i]][1]\n",
    "#         train['state_pop'][i] = l[train.state[i]][0] * l[train.state[i]][1]\n",
    "#         train['man_ave'][i] = man[train.manufacturer[i]]\n",
    "\n",
    "# for i in range(test.id.shape[0]):\n",
    "#     if type(test.state[i]) == str:\n",
    "#         test.state_pd[i] = l[test.state[i]][0]\n",
    "#         test.state_area[i] = l[test.state[i]][1]\n",
    "#         test.state_pop[i] = l[test.state[i]][0] * l[test.state[i]][1]\n",
    "#         test.man_ave[i] = man[test.manufacturer[i]]\n",
    "\n",
    "# train = train.fillna({\"state_pd\": train.state_pd.mean(), \"state_area\": train.state_area.mean(), \"state_pop\": train.state_pop.mean(), \"man_ave\": train.man_ave.mean(), \"condition\": train.condition.mean()})\n",
    "# test = test.fillna({\"state_pd\": test.state_pd.mean(), \"state_area\": test.state_area.mean(), \"state_pop\": test.state_pop.mean(), \"man_ave\": test.man_ave.mean(), \"condition\": test.condition.mean()})"
   ]
  },
  {
   "cell_type": "code",
   "execution_count": 282,
   "metadata": {},
   "outputs": [],
   "source": [
    "#separating categorical and numerical features\n",
    "categorical_features=[feature for feature in train.columns if train[feature].dtype=='object']\n",
    "numerical_features=[feature for feature in train.columns if feature not in categorical_features]"
   ]
  },
  {
   "cell_type": "code",
   "execution_count": 283,
   "metadata": {},
   "outputs": [
    {
     "data": {
      "text/plain": [
       "<Figure size 1000x1000 with 0 Axes>"
      ]
     },
     "metadata": {},
     "output_type": "display_data"
    },
    {
     "data": {
      "image/png": "[encoded data removed]",
      "text/plain": [
       "<Figure size 1000x1000 with 4 Axes>"
      ]
     },
     "metadata": {},
     "output_type": "display_data"
    }
   ],
   "source": [
    "train_num=train[numerical_features]\n",
    "plt.figure(figsize=(10,10))\n",
    "train_num.hist(figsize=(10,10),bins=50, xlabelsize=5, ylabelsize=5)\n",
    "plt.show()"
   ]
  },
  {
   "cell_type": "code",
   "execution_count": 284,
   "metadata": {},
   "outputs": [
    {
     "data": {
      "text/plain": [
       "<Axes: >"
      ]
     },
     "execution_count": 284,
     "metadata": {},
     "output_type": "execute_result"
    },
    {
     "data": {
      "image/png": "[encoded data removed]",
      "text/plain": [
       "<Figure size 1000x1000 with 2 Axes>"
      ]
     },
     "metadata": {},
     "output_type": "display_data"
    }
   ],
   "source": [
    "#correlation heatmap\n",
    "plt.figure(figsize=(10,10))\n",
    "corr=train_num.corr()\n",
    "msk = np.triu(np.ones_like(corr))\n",
    "sns.heatmap(corr,cmap=plt.cm.RdBu_r,annot=True,annot_kws={'size':10},mask=msk)"
   ]
  },
  {
   "cell_type": "code",
   "execution_count": 285,
   "metadata": {},
   "outputs": [
    {
     "data": {
      "image/png": "[encoded data removed]",
      "text/plain": [
       "<Figure size 2000x1200 with 4 Axes>"
      ]
     },
     "metadata": {},
     "output_type": "display_data"
    }
   ],
   "source": [
    "#visualization of numerical features using box plot to determine/remove extreme outliers\n",
    "n_row=2\n",
    "n_col=2\n",
    "\n",
    "fig,ax=plt.subplots(nrows=n_row,ncols=n_col,figsize=(20,6*n_row))\n",
    "i=0  #for row number\n",
    "for feature in numerical_features:\n",
    "    n=i//n_col   #for row no.\n",
    "    m=i%n_col    #for col no.\n",
    "    sns.boxplot(x=feature,data=train,palette='magma',ax=ax[n,m])\n",
    "    i+=1"
   ]
  },
  {
   "cell_type": "code",
   "execution_count": 286,
   "metadata": {},
   "outputs": [
    {
     "data": {
      "text/html": [
       "<div>\n",
       "<style scoped>\n",
       "    .dataframe tbody tr th:only-of-type {\n",
       "        vertical-align: middle;\n",
       "    }\n",
       "\n",
       "    .dataframe tbody tr th {\n",
       "        vertical-align: top;\n",
       "    }\n",
       "\n",
       "    .dataframe thead th {\n",
       "        text-align: right;\n",
       "    }\n",
       "</style>\n",
       "<table border=\"1\" class=\"dataframe\">\n",
       "  <thead>\n",
       "    <tr style=\"text-align: right;\">\n",
       "      <th></th>\n",
       "      <th>unique_counts</th>\n",
       "    </tr>\n",
       "  </thead>\n",
       "  <tbody>\n",
       "    <tr>\n",
       "      <th>region</th>\n",
       "      <td>372</td>\n",
       "    </tr>\n",
       "    <tr>\n",
       "      <th>manufacturer</th>\n",
       "      <td>38</td>\n",
       "    </tr>\n",
       "    <tr>\n",
       "      <th>condition</th>\n",
       "      <td>6</td>\n",
       "    </tr>\n",
       "    <tr>\n",
       "      <th>cylinders</th>\n",
       "      <td>8</td>\n",
       "    </tr>\n",
       "    <tr>\n",
       "      <th>fuel</th>\n",
       "      <td>5</td>\n",
       "    </tr>\n",
       "    <tr>\n",
       "      <th>title_status</th>\n",
       "      <td>6</td>\n",
       "    </tr>\n",
       "    <tr>\n",
       "      <th>transmission</th>\n",
       "      <td>3</td>\n",
       "    </tr>\n",
       "    <tr>\n",
       "      <th>drive</th>\n",
       "      <td>3</td>\n",
       "    </tr>\n",
       "    <tr>\n",
       "      <th>size</th>\n",
       "      <td>4</td>\n",
       "    </tr>\n",
       "    <tr>\n",
       "      <th>type</th>\n",
       "      <td>13</td>\n",
       "    </tr>\n",
       "    <tr>\n",
       "      <th>paint_color</th>\n",
       "      <td>12</td>\n",
       "    </tr>\n",
       "    <tr>\n",
       "      <th>state</th>\n",
       "      <td>51</td>\n",
       "    </tr>\n",
       "  </tbody>\n",
       "</table>\n",
       "</div>"
      ],
      "text/plain": [
       "              unique_counts\n",
       "region                  372\n",
       "manufacturer             38\n",
       "condition                 6\n",
       "cylinders                 8\n",
       "fuel                      5\n",
       "title_status              6\n",
       "transmission              3\n",
       "drive                     3\n",
       "size                      4\n",
       "type                     13\n",
       "paint_color              12\n",
       "state                    51"
      ]
     },
     "execution_count": 286,
     "metadata": {},
     "output_type": "execute_result"
    }
   ],
   "source": [
    "#for determining no. of unique categories for each feature\n",
    "dict_={}\n",
    "for feature in categorical_features:\n",
    "    dict_[feature]=train[feature].value_counts().shape[0]\n",
    "pd.DataFrame(dict_,index=['unique_counts']).transpose()"
   ]
  },
  {
   "cell_type": "code",
   "execution_count": 287,
   "metadata": {},
   "outputs": [
    {
     "name": "stderr",
     "output_type": "stream",
     "text": [
      "C:\\Users\\81703\\AppData\\Local\\Temp\\ipykernel_10796\\421074024.py:1: FutureWarning: The default value of numeric_only in DataFrameGroupBy.mean is deprecated. In a future version, numeric_only will default to False. Either specify numeric_only or select only columns which should be valid for the function.\n",
      "  dict(np.argsort(train.groupby(\"condition\").mean().price))\n"
     ]
    },
    {
     "data": {
      "text/plain": [
       "{'excellent': 1, 'fair': 5, 'good': 2, 'like new': 0, 'new': 4, 'salvage': 3}"
      ]
     },
     "execution_count": 287,
     "metadata": {},
     "output_type": "execute_result"
    }
   ],
   "source": [
    "dict(np.argsort(train.groupby(\"condition\").mean().price))"
   ]
  },
  {
   "cell_type": "code",
   "execution_count": 288,
   "metadata": {},
   "outputs": [
    {
     "name": "stderr",
     "output_type": "stream",
     "text": [
      "C:\\Users\\81703\\AppData\\Local\\Temp\\ipykernel_10796\\3987123742.py:2: FutureWarning: The default value of numeric_only in DataFrameGroupBy.mean is deprecated. In a future version, numeric_only will default to False. Either specify numeric_only or select only columns which should be valid for the function.\n",
      "  ma = dict(np.argsort(train.groupby(i).mean().price))\n",
      "C:\\Users\\81703\\AppData\\Local\\Temp\\ipykernel_10796\\3987123742.py:2: FutureWarning: The default value of numeric_only in DataFrameGroupBy.mean is deprecated. In a future version, numeric_only will default to False. Either specify numeric_only or select only columns which should be valid for the function.\n",
      "  ma = dict(np.argsort(train.groupby(i).mean().price))\n",
      "C:\\Users\\81703\\AppData\\Local\\Temp\\ipykernel_10796\\3987123742.py:2: FutureWarning: The default value of numeric_only in DataFrameGroupBy.mean is deprecated. In a future version, numeric_only will default to False. Either specify numeric_only or select only columns which should be valid for the function.\n",
      "  ma = dict(np.argsort(train.groupby(i).mean().price))\n",
      "C:\\Users\\81703\\AppData\\Local\\Temp\\ipykernel_10796\\3987123742.py:2: FutureWarning: The default value of numeric_only in DataFrameGroupBy.mean is deprecated. In a future version, numeric_only will default to False. Either specify numeric_only or select only columns which should be valid for the function.\n",
      "  ma = dict(np.argsort(train.groupby(i).mean().price))\n",
      "C:\\Users\\81703\\AppData\\Local\\Temp\\ipykernel_10796\\3987123742.py:2: FutureWarning: The default value of numeric_only in DataFrameGroupBy.mean is deprecated. In a future version, numeric_only will default to False. Either specify numeric_only or select only columns which should be valid for the function.\n",
      "  ma = dict(np.argsort(train.groupby(i).mean().price))\n",
      "C:\\Users\\81703\\AppData\\Local\\Temp\\ipykernel_10796\\3987123742.py:2: FutureWarning: The default value of numeric_only in DataFrameGroupBy.mean is deprecated. In a future version, numeric_only will default to False. Either specify numeric_only or select only columns which should be valid for the function.\n",
      "  ma = dict(np.argsort(train.groupby(i).mean().price))\n",
      "C:\\Users\\81703\\AppData\\Local\\Temp\\ipykernel_10796\\3987123742.py:2: FutureWarning: The default value of numeric_only in DataFrameGroupBy.mean is deprecated. In a future version, numeric_only will default to False. Either specify numeric_only or select only columns which should be valid for the function.\n",
      "  ma = dict(np.argsort(train.groupby(i).mean().price))\n",
      "C:\\Users\\81703\\AppData\\Local\\Temp\\ipykernel_10796\\3987123742.py:2: FutureWarning: The default value of numeric_only in DataFrameGroupBy.mean is deprecated. In a future version, numeric_only will default to False. Either specify numeric_only or select only columns which should be valid for the function.\n",
      "  ma = dict(np.argsort(train.groupby(i).mean().price))\n",
      "C:\\Users\\81703\\AppData\\Local\\Temp\\ipykernel_10796\\3987123742.py:2: FutureWarning: The default value of numeric_only in DataFrameGroupBy.mean is deprecated. In a future version, numeric_only will default to False. Either specify numeric_only or select only columns which should be valid for the function.\n",
      "  ma = dict(np.argsort(train.groupby(i).mean().price))\n",
      "C:\\Users\\81703\\AppData\\Local\\Temp\\ipykernel_10796\\3987123742.py:2: FutureWarning: The default value of numeric_only in DataFrameGroupBy.mean is deprecated. In a future version, numeric_only will default to False. Either specify numeric_only or select only columns which should be valid for the function.\n",
      "  ma = dict(np.argsort(train.groupby(i).mean().price))\n",
      "C:\\Users\\81703\\AppData\\Local\\Temp\\ipykernel_10796\\3987123742.py:2: FutureWarning: The default value of numeric_only in DataFrameGroupBy.mean is deprecated. In a future version, numeric_only will default to False. Either specify numeric_only or select only columns which should be valid for the function.\n",
      "  ma = dict(np.argsort(train.groupby(i).mean().price))\n"
     ]
    }
   ],
   "source": [
    "for i in train.describe(include=\"O\").columns:\n",
    "    ma = dict(np.argsort(train.groupby(i).mean().price))\n",
    "    train[i] = train[i].map(ma)\n",
    "    test[i] = test[i].map(ma)\n",
    "    train = train.fillna({i: train[i].mean()})\n",
    "    test = test.fillna({i: test[i].mean()})"
   ]
  },
  {
   "cell_type": "code",
   "execution_count": 289,
   "metadata": {},
   "outputs": [
    {
     "name": "stdout",
     "output_type": "stream",
     "text": [
      "<class 'pandas.core.frame.DataFrame'>\n",
      "RangeIndex: 27532 entries, 0 to 27531\n",
      "Data columns (total 16 columns):\n",
      " #   Column        Non-Null Count  Dtype  \n",
      "---  ------        --------------  -----  \n",
      " 0   id            27532 non-null  int64  \n",
      " 1   region        27532 non-null  int64  \n",
      " 2   year          27532 non-null  int64  \n",
      " 3   manufacturer  27532 non-null  int64  \n",
      " 4   condition     27532 non-null  int64  \n",
      " 5   cylinders     27532 non-null  int64  \n",
      " 6   fuel          27532 non-null  float64\n",
      " 7   odometer      27532 non-null  int64  \n",
      " 8   title_status  27532 non-null  float64\n",
      " 9   transmission  27532 non-null  int64  \n",
      " 10  drive         27532 non-null  int64  \n",
      " 11  size          27532 non-null  int64  \n",
      " 12  type          27532 non-null  float64\n",
      " 13  paint_color   27532 non-null  int64  \n",
      " 14  state         27532 non-null  float64\n",
      " 15  price         27532 non-null  int64  \n",
      "dtypes: float64(4), int64(12)\n",
      "memory usage: 3.4 MB\n"
     ]
    }
   ],
   "source": [
    "train.info()"
   ]
  },
  {
   "cell_type": "code",
   "execution_count": null,
   "metadata": {},
   "outputs": [],
   "source": []
  },
  {
   "cell_type": "code",
   "execution_count": null,
   "metadata": {},
   "outputs": [],
   "source": []
  },
  {
   "cell_type": "code",
   "execution_count": 290,
   "metadata": {},
   "outputs": [],
   "source": [
    "cols = [\"year\", \"odometer\"] #, \"state_pd\", \"state_area\", \"state_pop\", \"man_ave\"]\n",
    "nu = 5\n",
    "for i in np.arange(2, nu):\n",
    "    for c in cols:\n",
    "        train[f\"{c}{i}\"] = train[c] ** i\n",
    "        test[f\"{c}{i}\"] = test[c] ** i"
   ]
  },
  {
   "cell_type": "code",
   "execution_count": 291,
   "metadata": {},
   "outputs": [
    {
     "data": {
      "text/plain": [
       "Index(['id', 'region', 'year', 'manufacturer', 'condition', 'cylinders',\n",
       "       'fuel', 'odometer', 'title_status', 'transmission', 'drive', 'size',\n",
       "       'type', 'paint_color', 'state', 'price', 'year2', 'odometer2', 'year3',\n",
       "       'odometer3', 'year4', 'odometer4'],\n",
       "      dtype='object')"
      ]
     },
     "execution_count": 291,
     "metadata": {},
     "output_type": "execute_result"
    }
   ],
   "source": [
    "train.columns"
   ]
  },
  {
   "cell_type": "code",
   "execution_count": 292,
   "metadata": {},
   "outputs": [],
   "source": [
    "# col = ['id', \"region\", \"manufacturer\", \"title_status\", \"transmission\", \"state\", \"odometer4\"]\n",
    "# train.drop(col, axis=1, inplace=True)\n",
    "# test.drop(col, axis=1, inplace=True)"
   ]
  },
  {
   "cell_type": "code",
   "execution_count": 293,
   "metadata": {},
   "outputs": [
    {
     "data": {
      "text/plain": [
       "id             -0.006868\n",
       "region         -0.029890\n",
       "year            0.135296\n",
       "manufacturer   -0.055378\n",
       "condition      -0.227237\n",
       "cylinders      -0.207885\n",
       "fuel           -0.276608\n",
       "odometer       -0.379853\n",
       "title_status    0.046430\n",
       "transmission   -0.053892\n",
       "drive          -0.282415\n",
       "size            0.202872\n",
       "type           -0.220914\n",
       "paint_color    -0.167797\n",
       "state          -0.032063\n",
       "price           1.000000\n",
       "year2           0.136706\n",
       "odometer2      -0.307163\n",
       "year3           0.138107\n",
       "odometer3      -0.239124\n",
       "year4           0.139498\n",
       "odometer4       0.027837\n",
       "Name: price, dtype: float64"
      ]
     },
     "execution_count": 293,
     "metadata": {},
     "output_type": "execute_result"
    }
   ],
   "source": [
    "train.corr().price"
   ]
  },
  {
   "cell_type": "code",
   "execution_count": 294,
   "metadata": {},
   "outputs": [],
   "source": [
    "train.to_csv(\"train3.csv\", index=False)\n",
    "test.to_csv(\"test3.csv\", index=False)"
   ]
  },
  {
   "cell_type": "code",
   "execution_count": 295,
   "metadata": {},
   "outputs": [
    {
     "data": {
      "text/html": [
       "<div>\n",
       "<style scoped>\n",
       "    .dataframe tbody tr th:only-of-type {\n",
       "        vertical-align: middle;\n",
       "    }\n",
       "\n",
       "    .dataframe tbody tr th {\n",
       "        vertical-align: top;\n",
       "    }\n",
       "\n",
       "    .dataframe thead th {\n",
       "        text-align: right;\n",
       "    }\n",
       "</style>\n",
       "<table border=\"1\" class=\"dataframe\">\n",
       "  <thead>\n",
       "    <tr style=\"text-align: right;\">\n",
       "      <th></th>\n",
       "      <th>id</th>\n",
       "      <th>region</th>\n",
       "      <th>year</th>\n",
       "      <th>manufacturer</th>\n",
       "      <th>condition</th>\n",
       "      <th>cylinders</th>\n",
       "      <th>fuel</th>\n",
       "      <th>odometer</th>\n",
       "      <th>title_status</th>\n",
       "      <th>transmission</th>\n",
       "      <th>drive</th>\n",
       "      <th>size</th>\n",
       "      <th>type</th>\n",
       "      <th>paint_color</th>\n",
       "      <th>state</th>\n",
       "      <th>price</th>\n",
       "      <th>year2</th>\n",
       "      <th>odometer2</th>\n",
       "      <th>year3</th>\n",
       "      <th>odometer3</th>\n",
       "      <th>year4</th>\n",
       "      <th>odometer4</th>\n",
       "    </tr>\n",
       "  </thead>\n",
       "  <tbody>\n",
       "    <tr>\n",
       "      <th>count</th>\n",
       "      <td>27532.000000</td>\n",
       "      <td>27532.000000</td>\n",
       "      <td>27532.000000</td>\n",
       "      <td>27532.000000</td>\n",
       "      <td>27532.000000</td>\n",
       "      <td>27532.000000</td>\n",
       "      <td>27532.000000</td>\n",
       "      <td>27532.000000</td>\n",
       "      <td>27532.000000</td>\n",
       "      <td>27532.000000</td>\n",
       "      <td>27532.000000</td>\n",
       "      <td>27532.000000</td>\n",
       "      <td>27532.000000</td>\n",
       "      <td>27532.000000</td>\n",
       "      <td>27532.000000</td>\n",
       "      <td>27532.000000</td>\n",
       "      <td>2.753200e+04</td>\n",
       "      <td>2.753200e+04</td>\n",
       "      <td>2.753200e+04</td>\n",
       "      <td>2.753200e+04</td>\n",
       "      <td>2.753200e+04</td>\n",
       "      <td>2.753200e+04</td>\n",
       "    </tr>\n",
       "    <tr>\n",
       "      <th>mean</th>\n",
       "      <td>13765.500000</td>\n",
       "      <td>182.823115</td>\n",
       "      <td>2007.687673</td>\n",
       "      <td>20.365393</td>\n",
       "      <td>1.437673</td>\n",
       "      <td>3.629631</td>\n",
       "      <td>3.887042</td>\n",
       "      <td>115710.269069</td>\n",
       "      <td>2.206604</td>\n",
       "      <td>1.191668</td>\n",
       "      <td>1.354787</td>\n",
       "      <td>2.283270</td>\n",
       "      <td>8.545982</td>\n",
       "      <td>4.903131</td>\n",
       "      <td>26.725070</td>\n",
       "      <td>13468.724829</td>\n",
       "      <td>4.030912e+06</td>\n",
       "      <td>1.698322e+10</td>\n",
       "      <td>8.093222e+09</td>\n",
       "      <td>2.916812e+15</td>\n",
       "      <td>1.624988e+13</td>\n",
       "      <td>1.914487e+17</td>\n",
       "    </tr>\n",
       "    <tr>\n",
       "      <th>std</th>\n",
       "      <td>7947.948142</td>\n",
       "      <td>110.028668</td>\n",
       "      <td>10.123062</td>\n",
       "      <td>9.781731</td>\n",
       "      <td>1.259075</td>\n",
       "      <td>2.598063</td>\n",
       "      <td>0.348647</td>\n",
       "      <td>59954.051292</td>\n",
       "      <td>0.712040</td>\n",
       "      <td>0.467752</td>\n",
       "      <td>0.761636</td>\n",
       "      <td>0.971195</td>\n",
       "      <td>3.993983</td>\n",
       "      <td>3.545194</td>\n",
       "      <td>12.269665</td>\n",
       "      <td>10962.149840</td>\n",
       "      <td>4.038429e+04</td>\n",
       "      <td>1.686659e+10</td>\n",
       "      <td>1.208421e+08</td>\n",
       "      <td>4.730621e+15</td>\n",
       "      <td>3.214510e+11</td>\n",
       "      <td>5.094924e+18</td>\n",
       "    </tr>\n",
       "    <tr>\n",
       "      <th>min</th>\n",
       "      <td>0.000000</td>\n",
       "      <td>0.000000</td>\n",
       "      <td>1921.000000</td>\n",
       "      <td>0.000000</td>\n",
       "      <td>0.000000</td>\n",
       "      <td>0.000000</td>\n",
       "      <td>0.000000</td>\n",
       "      <td>0.000000</td>\n",
       "      <td>0.000000</td>\n",
       "      <td>0.000000</td>\n",
       "      <td>0.000000</td>\n",
       "      <td>0.000000</td>\n",
       "      <td>0.000000</td>\n",
       "      <td>0.000000</td>\n",
       "      <td>0.000000</td>\n",
       "      <td>1004.000000</td>\n",
       "      <td>3.690241e+06</td>\n",
       "      <td>0.000000e+00</td>\n",
       "      <td>7.088953e+09</td>\n",
       "      <td>0.000000e+00</td>\n",
       "      <td>1.361788e+13</td>\n",
       "      <td>-9.221863e+18</td>\n",
       "    </tr>\n",
       "    <tr>\n",
       "      <th>25%</th>\n",
       "      <td>6882.750000</td>\n",
       "      <td>82.000000</td>\n",
       "      <td>2005.000000</td>\n",
       "      <td>13.000000</td>\n",
       "      <td>1.000000</td>\n",
       "      <td>2.000000</td>\n",
       "      <td>4.000000</td>\n",
       "      <td>78367.750000</td>\n",
       "      <td>2.000000</td>\n",
       "      <td>1.000000</td>\n",
       "      <td>1.000000</td>\n",
       "      <td>2.000000</td>\n",
       "      <td>5.000000</td>\n",
       "      <td>2.000000</td>\n",
       "      <td>18.000000</td>\n",
       "      <td>5759.000000</td>\n",
       "      <td>4.020025e+06</td>\n",
       "      <td>6.141504e+09</td>\n",
       "      <td>8.060150e+09</td>\n",
       "      <td>4.812959e+14</td>\n",
       "      <td>1.616060e+13</td>\n",
       "      <td>-4.030861e+18</td>\n",
       "    </tr>\n",
       "    <tr>\n",
       "      <th>50%</th>\n",
       "      <td>13765.500000</td>\n",
       "      <td>193.000000</td>\n",
       "      <td>2011.000000</td>\n",
       "      <td>17.000000</td>\n",
       "      <td>1.000000</td>\n",
       "      <td>2.000000</td>\n",
       "      <td>4.000000</td>\n",
       "      <td>111444.500000</td>\n",
       "      <td>2.000000</td>\n",
       "      <td>1.000000</td>\n",
       "      <td>2.000000</td>\n",
       "      <td>3.000000</td>\n",
       "      <td>11.000000</td>\n",
       "      <td>4.000000</td>\n",
       "      <td>26.725070</td>\n",
       "      <td>9206.000000</td>\n",
       "      <td>4.044121e+06</td>\n",
       "      <td>1.241988e+10</td>\n",
       "      <td>8.132727e+09</td>\n",
       "      <td>1.384127e+15</td>\n",
       "      <td>1.635491e+13</td>\n",
       "      <td>2.146492e+17</td>\n",
       "    </tr>\n",
       "    <tr>\n",
       "      <th>75%</th>\n",
       "      <td>20648.250000</td>\n",
       "      <td>278.000000</td>\n",
       "      <td>2014.000000</td>\n",
       "      <td>28.000000</td>\n",
       "      <td>2.000000</td>\n",
       "      <td>7.000000</td>\n",
       "      <td>4.000000</td>\n",
       "      <td>150837.000000</td>\n",
       "      <td>2.000000</td>\n",
       "      <td>1.000000</td>\n",
       "      <td>2.000000</td>\n",
       "      <td>3.000000</td>\n",
       "      <td>12.000000</td>\n",
       "      <td>8.000000</td>\n",
       "      <td>36.000000</td>\n",
       "      <td>19128.000000</td>\n",
       "      <td>4.056196e+06</td>\n",
       "      <td>2.275180e+10</td>\n",
       "      <td>8.169179e+09</td>\n",
       "      <td>3.431813e+15</td>\n",
       "      <td>1.645273e+13</td>\n",
       "      <td>4.332658e+18</td>\n",
       "    </tr>\n",
       "    <tr>\n",
       "      <th>max</th>\n",
       "      <td>27531.000000</td>\n",
       "      <td>371.000000</td>\n",
       "      <td>2022.000000</td>\n",
       "      <td>37.000000</td>\n",
       "      <td>5.000000</td>\n",
       "      <td>7.000000</td>\n",
       "      <td>4.000000</td>\n",
       "      <td>396512.000000</td>\n",
       "      <td>5.000000</td>\n",
       "      <td>2.000000</td>\n",
       "      <td>2.000000</td>\n",
       "      <td>3.000000</td>\n",
       "      <td>12.000000</td>\n",
       "      <td>11.000000</td>\n",
       "      <td>50.000000</td>\n",
       "      <td>96818.000000</td>\n",
       "      <td>4.088484e+06</td>\n",
       "      <td>1.572218e+11</td>\n",
       "      <td>8.266915e+09</td>\n",
       "      <td>6.234032e+16</td>\n",
       "      <td>1.671570e+13</td>\n",
       "      <td>9.223236e+18</td>\n",
       "    </tr>\n",
       "  </tbody>\n",
       "</table>\n",
       "</div>"
      ],
      "text/plain": [
       "                 id        region          year  manufacturer     condition  \\\n",
       "count  27532.000000  27532.000000  27532.000000  27532.000000  27532.000000   \n",
       "mean   13765.500000    182.823115   2007.687673     20.365393      1.437673   \n",
       "std     7947.948142    110.028668     10.123062      9.781731      1.259075   \n",
       "min        0.000000      0.000000   1921.000000      0.000000      0.000000   \n",
       "25%     6882.750000     82.000000   2005.000000     13.000000      1.000000   \n",
       "50%    13765.500000    193.000000   2011.000000     17.000000      1.000000   \n",
       "75%    20648.250000    278.000000   2014.000000     28.000000      2.000000   \n",
       "max    27531.000000    371.000000   2022.000000     37.000000      5.000000   \n",
       "\n",
       "          cylinders          fuel       odometer  title_status  transmission  \\\n",
       "count  27532.000000  27532.000000   27532.000000  27532.000000  27532.000000   \n",
       "mean       3.629631      3.887042  115710.269069      2.206604      1.191668   \n",
       "std        2.598063      0.348647   59954.051292      0.712040      0.467752   \n",
       "min        0.000000      0.000000       0.000000      0.000000      0.000000   \n",
       "25%        2.000000      4.000000   78367.750000      2.000000      1.000000   \n",
       "50%        2.000000      4.000000  111444.500000      2.000000      1.000000   \n",
       "75%        7.000000      4.000000  150837.000000      2.000000      1.000000   \n",
       "max        7.000000      4.000000  396512.000000      5.000000      2.000000   \n",
       "\n",
       "              drive          size          type   paint_color         state  \\\n",
       "count  27532.000000  27532.000000  27532.000000  27532.000000  27532.000000   \n",
       "mean       1.354787      2.283270      8.545982      4.903131     26.725070   \n",
       "std        0.761636      0.971195      3.993983      3.545194     12.269665   \n",
       "min        0.000000      0.000000      0.000000      0.000000      0.000000   \n",
       "25%        1.000000      2.000000      5.000000      2.000000     18.000000   \n",
       "50%        2.000000      3.000000     11.000000      4.000000     26.725070   \n",
       "75%        2.000000      3.000000     12.000000      8.000000     36.000000   \n",
       "max        2.000000      3.000000     12.000000     11.000000     50.000000   \n",
       "\n",
       "              price         year2     odometer2         year3     odometer3  \\\n",
       "count  27532.000000  2.753200e+04  2.753200e+04  2.753200e+04  2.753200e+04   \n",
       "mean   13468.724829  4.030912e+06  1.698322e+10  8.093222e+09  2.916812e+15   \n",
       "std    10962.149840  4.038429e+04  1.686659e+10  1.208421e+08  4.730621e+15   \n",
       "min     1004.000000  3.690241e+06  0.000000e+00  7.088953e+09  0.000000e+00   \n",
       "25%     5759.000000  4.020025e+06  6.141504e+09  8.060150e+09  4.812959e+14   \n",
       "50%     9206.000000  4.044121e+06  1.241988e+10  8.132727e+09  1.384127e+15   \n",
       "75%    19128.000000  4.056196e+06  2.275180e+10  8.169179e+09  3.431813e+15   \n",
       "max    96818.000000  4.088484e+06  1.572218e+11  8.266915e+09  6.234032e+16   \n",
       "\n",
       "              year4     odometer4  \n",
       "count  2.753200e+04  2.753200e+04  \n",
       "mean   1.624988e+13  1.914487e+17  \n",
       "std    3.214510e+11  5.094924e+18  \n",
       "min    1.361788e+13 -9.221863e+18  \n",
       "25%    1.616060e+13 -4.030861e+18  \n",
       "50%    1.635491e+13  2.146492e+17  \n",
       "75%    1.645273e+13  4.332658e+18  \n",
       "max    1.671570e+13  9.223236e+18  "
      ]
     },
     "execution_count": 295,
     "metadata": {},
     "output_type": "execute_result"
    }
   ],
   "source": [
    "train.describe()"
   ]
  },
  {
   "cell_type": "code",
   "execution_count": null,
   "metadata": {},
   "outputs": [],
   "source": []
  }
 ],
 "metadata": {
  "kernelspec": {
   "display_name": "base",
   "language": "python",
   "name": "python3"
  },
  "language_info": {
   "codemirror_mode": {
    "name": "ipython",
    "version": 3
   },
   "file_extension": ".py",
   "mimetype": "text/x-python",
   "name": "python",
   "nbconvert_exporter": "python",
   "pygments_lexer": "ipython3",
   "version": "3.8.16"
  },
  "orig_nbformat": 4
 },
 "nbformat": 4,
 "nbformat_minor": 2
}

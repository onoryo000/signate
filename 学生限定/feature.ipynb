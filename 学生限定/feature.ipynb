{
 "cells": [
  {
   "cell_type": "code",
   "execution_count": 180,
   "metadata": {},
   "outputs": [],
   "source": [
    "#ライブラリのimportを行います\n",
    "import pandas as pd\n",
    "import numpy as np\n",
    "import matplotlib.pyplot as plt\n",
    "import unicodedata\n",
    "from sklearn.preprocessing import LabelEncoder\n",
    "from sklearn.model_selection import train_test_split"
   ]
  },
  {
   "cell_type": "code",
   "execution_count": 181,
   "metadata": {},
   "outputs": [],
   "source": [
    "train = pd.read_csv(\"train.csv\")\n",
    "test = pd.read_csv(\"test.csv\")"
   ]
  },
  {
   "cell_type": "code",
   "execution_count": 182,
   "metadata": {},
   "outputs": [
    {
     "name": "stdout",
     "output_type": "stream",
     "text": [
      "<class 'pandas.core.frame.DataFrame'>\n",
      "RangeIndex: 55069 entries, 0 to 55068\n",
      "Data columns (total 16 columns):\n",
      " #   Column        Non-Null Count  Dtype  \n",
      "---  ------        --------------  -----  \n",
      " 0   id            55069 non-null  int64  \n",
      " 1   region        55069 non-null  object \n",
      " 2   year          55069 non-null  int64  \n",
      " 3   manufacturer  55069 non-null  object \n",
      " 4   condition     55069 non-null  object \n",
      " 5   cylinders     55069 non-null  object \n",
      " 6   fuel          52335 non-null  object \n",
      " 7   odometer      55069 non-null  int64  \n",
      " 8   title_status  54384 non-null  object \n",
      " 9   transmission  55069 non-null  object \n",
      " 10  drive         55069 non-null  object \n",
      " 11  size          55069 non-null  object \n",
      " 12  type          54384 non-null  object \n",
      " 13  paint_color   55069 non-null  object \n",
      " 14  state         48736 non-null  object \n",
      " 15  price         27532 non-null  float64\n",
      "dtypes: float64(1), int64(3), object(12)\n",
      "memory usage: 6.7+ MB\n"
     ]
    }
   ],
   "source": [
    "# trainデータとtestデータを結合\n",
    "data = pd.concat([train, test], ignore_index=True)\n",
    "data.info()\n",
    "data = data.drop(\"id\", axis=1)"
   ]
  },
  {
   "cell_type": "code",
   "execution_count": 183,
   "metadata": {},
   "outputs": [],
   "source": [
    "# stateの欠損値は\"ca\"で埋める\n",
    "data[\"state\"] = data[\"state\"].fillna(\"ca\")"
   ]
  },
  {
   "cell_type": "code",
   "execution_count": 184,
   "metadata": {},
   "outputs": [],
   "source": [
    "# LabelEncoderのインスタンスを作成\n",
    "label_encoder = LabelEncoder()\n",
    "\n",
    "# カテゴリ変数を数値にエンコード\n",
    "data['region'] = label_encoder.fit_transform(data['region'])\n",
    "data['state'] = label_encoder.fit_transform(data['state'])"
   ]
  },
  {
   "cell_type": "code",
   "execution_count": 185,
   "metadata": {},
   "outputs": [],
   "source": [
    "# yearの誤植訂正\n",
    "for i in [2999, 3008, 3017, 3015, 3019, 3011]:\n",
    "    data.loc[data[\"year\"] == i, \"year\"] = i - 1000"
   ]
  },
  {
   "cell_type": "code",
   "execution_count": 186,
   "metadata": {},
   "outputs": [
    {
     "data": {
      "text/plain": [
       "count     55069\n",
       "unique       38\n",
       "top        ford\n",
       "freq      13890\n",
       "Name: manufacturer, dtype: object"
      ]
     },
     "execution_count": 186,
     "metadata": {},
     "output_type": "execute_result"
    }
   ],
   "source": [
    "# manufacturerを小文字に変換する\n",
    "data[\"manufacturer\"] = data[\"manufacturer\"].str.lower()\n",
    "# manufacturer内の文字列を全て半角に変換する関数\n",
    "def to_half_width(text):\n",
    "    return ''.join([unicodedata.normalize('NFKC', char) for char in text])\n",
    "\n",
    "# manufacturerのカラム内の文字列を半角に変換\n",
    "data[\"manufacturer\"] = data[\"manufacturer\"].apply(to_half_width)\n",
    "data[\"manufacturer\"].describe()\n",
    "\n",
    "def to_half_width(text):\n",
    "    return ''.join([unicodedata.normalize('NFKC', char).lower().replace(\"а\", \"a\").replace(\"ѕ\", \"s\").replace(\"о\", \"o\").replace(\"α\", \"a\") for char in text])\n",
    "\n",
    "data[\"manufacturer\"] = data[\"manufacturer\"].apply(to_half_width)\n",
    "\n",
    "data[\"manufacturer\"].describe()"
   ]
  },
  {
   "cell_type": "code",
   "execution_count": 187,
   "metadata": {},
   "outputs": [
    {
     "data": {
      "text/plain": [
       "6 cylinders     23201\n",
       "4 cylinders     20069\n",
       "8 cylinders     11340\n",
       "other             149\n",
       "10 cylinders      117\n",
       "5 cylinders       107\n",
       "3 cylinders        55\n",
       "12 cylinders       31\n",
       "Name: cylinders, dtype: int64"
      ]
     },
     "execution_count": 187,
     "metadata": {},
     "output_type": "execute_result"
    }
   ],
   "source": [
    "data[\"cylinders\"].value_counts()"
   ]
  },
  {
   "cell_type": "code",
   "execution_count": 188,
   "metadata": {},
   "outputs": [],
   "source": [
    "# cylindersの変更\n",
    "cylmap = {'6 cylinders': 6, '8 cylinders': 8, '4 cylinders': 4, 'other': 0,\n",
    "          '10 cylinders': 10, '12 cylinders': 12, '5 cylinders': 5, '3 cylinders': 3}\n",
    "data[\"cylinders\"] = train.cylinders.map(cylmap)\n"
   ]
  },
  {
   "cell_type": "code",
   "execution_count": 189,
   "metadata": {},
   "outputs": [],
   "source": [
    "# odometerの修正\n",
    "data[data[\"odometer\"] == -131869] = 131869\n",
    "\n",
    "# -1はexcelentのodometerの平均値で補完\n",
    "data[\"odometer\"] = data[\"odometer\"].replace(-1, data[data[\"condition\"] == \"excellent\"][\"odometer\"].mean())"
   ]
  },
  {
   "cell_type": "code",
   "execution_count": 190,
   "metadata": {},
   "outputs": [],
   "source": [
    "data['size'] = data['size'].str.replace('full-size', 'fullsize').replace('fullーsize', 'fullsize').replace('full−size', 'fullsize').replace('mid-size', 'midsize').replace('midーsize', 'midsize').replace('mid−size', 'midsize').replace('sub-compact','subcompact').replace('subーcompact', 'subcompact')"
   ]
  },
  {
   "cell_type": "code",
   "execution_count": 191,
   "metadata": {},
   "outputs": [],
   "source": [
    "# ワンホットエンコーディングする\n",
    "data = pd.get_dummies(data, columns=[\"condition\", \"manufacturer\",\"size\",\"fuel\",\"drive\",\"type\",\"title_status\",\"paint_color\",\"transmission\"])"
   ]
  },
  {
   "cell_type": "code",
   "execution_count": 192,
   "metadata": {},
   "outputs": [],
   "source": [
    "# 再びtrainデータとtestデータに戻す\n",
    "train = data.iloc[:len(train)]\n",
    "test = data.iloc[len(train):]"
   ]
  },
  {
   "cell_type": "code",
   "execution_count": 193,
   "metadata": {},
   "outputs": [],
   "source": [
    "y = train[\"price\"]\n",
    "X = train.drop([\"price\"], axis=1)\n",
    "test = test.drop([\"price\"], axis=1)"
   ]
  },
  {
   "cell_type": "code",
   "execution_count": 194,
   "metadata": {},
   "outputs": [],
   "source": [
    "#scikit-learnはsklearnでインポート可能\n",
    "import lightgbm as lgb\n",
    "from sklearn.metrics import mean_absolute_percentage_error"
   ]
  },
  {
   "cell_type": "code",
   "execution_count": 195,
   "metadata": {},
   "outputs": [],
   "source": [
    "# カテゴリ変数をカテゴリ型に変換\n",
    "categorical_features = ['region', 'state']\n",
    "for col in categorical_features:\n",
    "    data[col] = data[col].astype('category')"
   ]
  },
  {
   "cell_type": "code",
   "execution_count": 196,
   "metadata": {},
   "outputs": [],
   "source": [
    "X_train, X_test, y_train, y_test = train_test_split(X, y, test_size=0.1, random_state=0)\n",
    "lgb_train = lgb.Dataset(X_train, y_train)"
   ]
  },
  {
   "cell_type": "code",
   "execution_count": 197,
   "metadata": {},
   "outputs": [],
   "source": [
    "# ハイパーパラメータを設定\n",
    "params = {\n",
    "    'objective': 'regression',   # 目的関数: 回帰\n",
    "    'metric': 'mse',             # 評価指標: 平均二乗誤差\n",
    "    'boosting_type': 'gbdt',     # 勾配ブースティング\n",
    "    'num_leaves': 31,            # ツリーの葉の数\n",
    "    'learning_rate': 0.05,       # 学習率\n",
    "}\n"
   ]
  },
  {
   "cell_type": "code",
   "execution_count": 198,
   "metadata": {},
   "outputs": [
    {
     "name": "stdout",
     "output_type": "stream",
     "text": [
      "[LightGBM] [Warning] Found whitespace in feature_names, replace with underlines\n",
      "[LightGBM] [Warning] Auto-choosing row-wise multi-threading, the overhead of testing was 0.006306 seconds.\n",
      "You can set `force_row_wise=true` to remove the overhead.\n",
      "And if memory is not enough, you can set `force_col_wise=true`.\n",
      "[LightGBM] [Info] Total Bins 784\n",
      "[LightGBM] [Info] Number of data points in the train set: 24778, number of used features: 85\n",
      "[LightGBM] [Info] Start training from score 13444.939987\n"
     ]
    }
   ],
   "source": [
    "# モデルを訓練\n",
    "num_round = 100  # イテレーション数\n",
    "model = lgb.train(params, lgb_train, num_round)"
   ]
  },
  {
   "cell_type": "code",
   "execution_count": 199,
   "metadata": {},
   "outputs": [
    {
     "name": "stdout",
     "output_type": "stream",
     "text": [
      "[ 9599.24544609 19022.88151544 10877.7799988  16674.54035978\n",
      " 21167.89248856]\n"
     ]
    }
   ],
   "source": [
    "#predict()で予測できます。()内に予測したいデータを入れることで予測できます。\n",
    "pred = model.predict(X_test)\n",
    "#予測の中身確認\n",
    "print(pred[:5])"
   ]
  },
  {
   "cell_type": "code",
   "execution_count": 200,
   "metadata": {},
   "outputs": [
    {
     "name": "stdout",
     "output_type": "stream",
     "text": [
      "[ 9599. 19023. 10878. 16675. 21168. 15319. 13059. 10562. 13683. 30788.]\n"
     ]
    }
   ],
   "source": [
    "# 小数点は四捨五入する\n",
    "# 0.5以上なら切り上げ、0.5未満なら切り捨て\n",
    "pred = np.round(pred)\n",
    "print(pred[:10])"
   ]
  },
  {
   "cell_type": "code",
   "execution_count": 201,
   "metadata": {},
   "outputs": [
    {
     "name": "stdout",
     "output_type": "stream",
     "text": [
      "65.99551735386746\n"
     ]
    }
   ],
   "source": [
    "#MAPEの評価はmean_absolute_percentage_error(正解データ, 予測データ)で可能です。\n",
    "score = mean_absolute_percentage_error(y_test, pred)\n",
    "print(score*100)"
   ]
  },
  {
   "cell_type": "code",
   "execution_count": 204,
   "metadata": {},
   "outputs": [],
   "source": [
    "predict = model.predict(test)"
   ]
  },
  {
   "cell_type": "code",
   "execution_count": 207,
   "metadata": {},
   "outputs": [
    {
     "data": {
      "text/html": [
       "<div>\n",
       "<style scoped>\n",
       "    .dataframe tbody tr th:only-of-type {\n",
       "        vertical-align: middle;\n",
       "    }\n",
       "\n",
       "    .dataframe tbody tr th {\n",
       "        vertical-align: top;\n",
       "    }\n",
       "\n",
       "    .dataframe thead th {\n",
       "        text-align: right;\n",
       "    }\n",
       "</style>\n",
       "<table border=\"1\" class=\"dataframe\">\n",
       "  <thead>\n",
       "    <tr style=\"text-align: right;\">\n",
       "      <th></th>\n",
       "      <th>0</th>\n",
       "      <th>1</th>\n",
       "    </tr>\n",
       "  </thead>\n",
       "  <tbody>\n",
       "    <tr>\n",
       "      <th>0</th>\n",
       "      <td>27532</td>\n",
       "      <td>13185.0</td>\n",
       "    </tr>\n",
       "    <tr>\n",
       "      <th>1</th>\n",
       "      <td>27533</td>\n",
       "      <td>8526.0</td>\n",
       "    </tr>\n",
       "    <tr>\n",
       "      <th>2</th>\n",
       "      <td>27534</td>\n",
       "      <td>7365.0</td>\n",
       "    </tr>\n",
       "    <tr>\n",
       "      <th>3</th>\n",
       "      <td>27535</td>\n",
       "      <td>31749.0</td>\n",
       "    </tr>\n",
       "    <tr>\n",
       "      <th>4</th>\n",
       "      <td>27536</td>\n",
       "      <td>10708.0</td>\n",
       "    </tr>\n",
       "  </tbody>\n",
       "</table>\n",
       "</div>"
      ],
      "text/plain": [
       "       0        1\n",
       "0  27532  13185.0\n",
       "1  27533   8526.0\n",
       "2  27534   7365.0\n",
       "3  27535  31749.0\n",
       "4  27536  10708.0"
      ]
     },
     "execution_count": 207,
     "metadata": {},
     "output_type": "execute_result"
    }
   ],
   "source": [
    "#submit_sample.csvを読み込みます。\n",
    "submit = pd.read_csv(\"submit_sample.csv\", header=None)\n",
    "submit.head()\n",
    "#submit_sampleのpriceの数値部分を予測データpredictに変更する\n",
    "predict = np.round(predict)\n",
    "submit[1] = predict\n",
    "#確認してみましょう\n",
    "submit.head()"
   ]
  },
  {
   "cell_type": "code",
   "execution_count": 208,
   "metadata": {},
   "outputs": [],
   "source": [
    "#submission.csvでデータを保存(提出様式はindex=False, header=Noneとなります。)\n",
    "submit.to_csv(\"submit_sample.csv\", index=False, header=None)"
   ]
  },
  {
   "cell_type": "code",
   "execution_count": null,
   "metadata": {},
   "outputs": [],
   "source": []
  }
 ],
 "metadata": {
  "kernelspec": {
   "display_name": "base",
   "language": "python",
   "name": "python3"
  },
  "language_info": {
   "codemirror_mode": {
    "name": "ipython",
    "version": 3
   },
   "file_extension": ".py",
   "mimetype": "text/x-python",
   "name": "python",
   "nbconvert_exporter": "python",
   "pygments_lexer": "ipython3",
   "version": "3.9.13"
  },
  "orig_nbformat": 4
 },
 "nbformat": 4,
 "nbformat_minor": 2
}
